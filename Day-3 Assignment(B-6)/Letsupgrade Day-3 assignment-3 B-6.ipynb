{
 "cells": [
  {
   "cell_type": "code",
   "execution_count": 19,
   "metadata": {},
   "outputs": [
    {
     "name": "stdout",
     "output_type": "stream",
     "text": [
      "Enter the number: 3\n",
      "0 ...> 0\n",
      "Sum of the number is0\n",
      "1 ...> 1\n",
      "Sum of the number is1\n",
      "2 ...> 3\n",
      "Sum of the number is3\n",
      "3 ...> 6\n",
      "Sum of the number is6\n"
     ]
    }
   ],
   "source": [
    "# program in python to find the sum of numbers upto n\n",
    "sum=i=0\n",
    "n=int(input(\"Enter the number: \"))\n",
    "while i<=n:\n",
    "        sum=sum+i\n",
    "        print(i,\"...>\",sum)\n",
    "        print(f\"Sum of the number is{sum}\")\n",
    "        i=i+1\n"
   ]
  },
  {
   "cell_type": "code",
   "execution_count": 27,
   "metadata": {},
   "outputs": [
    {
     "name": "stdout",
     "output_type": "stream",
     "text": [
      "Enter the number13\n",
      "13 is a prime number\n"
     ]
    }
   ],
   "source": [
    "# Program in python to check whether the number is a prime number or not\n",
    "num=int(input(\"Enter the number\"))\n",
    "if num>1:\n",
    "    for i in range(2,num):\n",
    "        if num%i==0:\n",
    "            print('The number is not a prime number')\n",
    "            break\n",
    "            \n",
    "    else:\n",
    "    \n",
    "         print(f\"{num} is a prime number\")\n",
    "    \n",
    "      "
   ]
  },
  {
   "cell_type": "code",
   "execution_count": null,
   "metadata": {},
   "outputs": [],
   "source": []
  }
 ],
 "metadata": {
  "kernelspec": {
   "display_name": "Python 3",
   "language": "python",
   "name": "python3"
  },
  "language_info": {
   "codemirror_mode": {
    "name": "ipython",
    "version": 3
   },
   "file_extension": ".py",
   "mimetype": "text/x-python",
   "name": "python",
   "nbconvert_exporter": "python",
   "pygments_lexer": "ipython3",
   "version": "3.7.6"
  }
 },
 "nbformat": 4,
 "nbformat_minor": 4
}
