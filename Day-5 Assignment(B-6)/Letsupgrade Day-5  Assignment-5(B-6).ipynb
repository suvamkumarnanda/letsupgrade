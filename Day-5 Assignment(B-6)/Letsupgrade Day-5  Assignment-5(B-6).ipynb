{
 "cells": [
  {
   "cell_type": "markdown",
   "metadata": {},
   "source": [
    "# Assignment-1 Day-5"
   ]
  },
  {
   "cell_type": "code",
   "execution_count": 1,
   "metadata": {},
   "outputs": [
    {
     "name": "stdout",
     "output_type": "stream",
     "text": [
      "After sorting the array is [0, 0, 0, 0, 0, 1, 1, 1, 2, 2, 3, 4, 10, 56, 56]\n",
      "[1, 1, 1, 2, 2, 3, 4, 10, 56, 56, 0, 0, 0, 0, 0]\n"
     ]
    }
   ],
   "source": [
    "# program to sort the order of the list but all zeros should be at the right hand side\n",
    "lst1=[0,1,2,10,4,1,0,56,2,0,1,3,0,56,0]\n",
    "lst1.sort()\n",
    "print(\"After sorting the array is\",lst1)\n",
    "lst1[0:5]\n",
    "lst1[5:15]\n",
    "lst2=lst1[5:15]+lst1[0:5]\n",
    "print(lst2)\n",
    "\n",
    "\n"
   ]
  },
  {
   "cell_type": "markdown",
   "metadata": {},
   "source": [
    " \n",
    "\n",
    "\n"
   ]
  },
  {
   "cell_type": "markdown",
   "metadata": {},
   "source": [
    "# Assignment-2 Day-5"
   ]
  },
  {
   "cell_type": "code",
   "execution_count": 6,
   "metadata": {},
   "outputs": [
    {
     "name": "stdout",
     "output_type": "stream",
     "text": [
      "After merging the list is:  [10, 20, 40, 60, 80, 5, 15, 25, 35, 45, 60]\n",
      "5\n",
      "10\n",
      "15\n",
      "20\n",
      "25\n",
      "35\n",
      "40\n",
      "45\n",
      "60\n",
      "60\n",
      "80\n"
     ]
    }
   ],
   "source": [
    "# Program to merge two lists to produce a sorted list provided by using only one loop\n",
    "list1=[10,20,40,60,80]\n",
    "list2=[5,15,25,35,45,60]\n",
    "lst=list1+list2\n",
    "print(\"After merging the list is: \",lst)\n",
    "lst.sort()\n",
    "for i in lst:\n",
    "    print(i)"
   ]
  },
  {
   "cell_type": "code",
   "execution_count": null,
   "metadata": {},
   "outputs": [],
   "source": []
  }
 ],
 "metadata": {
  "kernelspec": {
   "display_name": "Python 3",
   "language": "python",
   "name": "python3"
  },
  "language_info": {
   "codemirror_mode": {
    "name": "ipython",
    "version": 3
   },
   "file_extension": ".py",
   "mimetype": "text/x-python",
   "name": "python",
   "nbconvert_exporter": "python",
   "pygments_lexer": "ipython3",
   "version": "3.7.6"
  }
 },
 "nbformat": 4,
 "nbformat_minor": 4
}
